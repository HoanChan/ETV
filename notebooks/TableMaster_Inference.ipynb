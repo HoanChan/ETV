{
 "cells": [
  {
   "cell_type": "code",
   "execution_count": 1,
   "id": "178bb4e5",
   "metadata": {},
   "outputs": [
    {
     "name": "stdout",
     "output_type": "stream",
     "text": [
      "F:/data\\vitabset\\test\n",
      "F:/data\\vitabset\\test.bz2\n"
     ]
    }
   ],
   "source": [
    "# Import required libraries\n",
    "import sys\n",
    "import os\n",
    "\n",
    "# Add the src directory to path\n",
    "sys.path.append(os.path.join(os.path.dirname(os.getcwd()), 'src'))\n",
    "from config import *\n",
    "\n",
    "print(VITABSET_TEST_IMAGE_ROOT)\n",
    "print(VITABSET_TEST_JSON)"
   ]
  },
  {
   "cell_type": "code",
   "execution_count": 2,
   "id": "4340daa0",
   "metadata": {},
   "outputs": [
    {
     "name": "stdout",
     "output_type": "stream",
     "text": [
      "14356.png ['<thead>', '<tr>', '<td>', '</td>', '<td>', '</td>', '<td>', '</td>', '<td>', '</td>', '<td>', '</td>', '</tr>', '</thead>', '<tbody>', '<tr>', '<td>', '</td>', '<td>', '</td>', '<td>', '</td>', '<td>', '</td>', '<td>', '</td>', '</tr>', '</tbody>']\n"
     ]
    }
   ],
   "source": [
    "import bz2\n",
    "import json\n",
    "\n",
    "# Lấy 5 mẫu từ VITABSET_TEST_JSON\n",
    "samples = []\n",
    "with bz2.open(VITABSET_TEST_JSON, 'rt', encoding='utf-8') as f:\n",
    "    for i, line in enumerate(f):\n",
    "        if i >= 1:\n",
    "            break\n",
    "        samples.append(json.loads(line))\n",
    "\n",
    "for sample in samples:\n",
    "    print(sample['filename'], sample['html']['structure']['tokens'])"
   ]
  },
  {
   "cell_type": "code",
   "execution_count": 3,
   "id": "d29bf8d9",
   "metadata": {},
   "outputs": [
    {
     "name": "stdout",
     "output_type": "stream",
     "text": [
      "F:/data\\vitabset\\test\\14356.png\n"
     ]
    }
   ],
   "source": [
    "img_paths = [os.path.join(VITABSET_TEST_IMAGE_ROOT, sample['filename']) for sample in samples]\n",
    "print(*img_paths, sep='\\n')"
   ]
  },
  {
   "cell_type": "code",
   "execution_count": 4,
   "id": "6af021e7",
   "metadata": {},
   "outputs": [
    {
     "name": "stdout",
     "output_type": "stream",
     "text": [
      "\"d:\\BIG Projects\\Python\\ETV\\work_dirs\\etv_concat_resnetex_ranger\\epoch_1_7000.pth\"\n",
      "\"d:\\BIG Projects\\Python\\ETV\\src\\configs\\etv_concat_resnetex_ranger.py\"\n"
     ]
    }
   ],
   "source": [
    "import os.path as osp\n",
    "checkpoint_path = osp.abspath('../work_dirs/etv_concat_resnetex_ranger/epoch_1_7000.pth')\n",
    "config_path = osp.abspath('../src/configs/etv_concat_resnetex_ranger.py')\n",
    "print(f'\"{checkpoint_path}\"')\n",
    "print(f'\"{config_path}\"')"
   ]
  },
  {
   "cell_type": "code",
   "execution_count": 5,
   "id": "76f73b84",
   "metadata": {},
   "outputs": [
    {
     "name": "stdout",
     "output_type": "stream",
     "text": [
      "Loads checkpoint by local backend from path: d:\\BIG Projects\\Python\\ETV\\work_dirs\\etv_concat_resnetex_ranger\\epoch_1_7000.pth\n",
      "Number of results: 2\n"
     ]
    }
   ],
   "source": [
    "from inferencers.table_master_inferencer import TableMasterInferencer\n",
    "inferencer = TableMasterInferencer(\n",
    "    checkpoint=checkpoint_path,\n",
    "    config=config_path,\n",
    "    device='cuda:0'\n",
    ")\n",
    "\n",
    "results = inferencer(img_paths, batch_size=2, save_vis=False, return_vis=True, save_pred=False, return_pred=True)\n",
    "\n",
    "print(f'Number of results: {len(results)}')"
   ]
  },
  {
   "cell_type": "code",
   "execution_count": 6,
   "id": "9f5c6f4b",
   "metadata": {},
   "outputs": [
    {
     "name": "stdout",
     "output_type": "stream",
     "text": [
      "dict_keys(['predictions', 'visualization'])\n",
      "predictions[0]: dict_keys(['tokens', 'bboxes', 'token_score'])\n",
      "visualization[0]: 105 items\n"
     ]
    }
   ],
   "source": [
    "print(results.keys())\n",
    "for k in results.keys():\n",
    "    if isinstance(results[k][0], dict):\n",
    "        print(f'{k}[0]: {results[k][0].keys()}')\n",
    "    else:\n",
    "        print(f'{k}[0]: {len(results[k][0])} items')"
   ]
  },
  {
   "cell_type": "code",
   "execution_count": 7,
   "id": "2d259127",
   "metadata": {},
   "outputs": [
    {
     "name": "stdout",
     "output_type": "stream",
     "text": [
      "Tokens: ['</tr>', '</tr>', '</tr>', '</tr>', '</tr>', '</tr>', '</tr>', '</tr>', '</tr>', '</tr>', '</tr>', '</tr>', '</tr>', '</tr>', '</tr>', '</tr>', '</tr>', '</tr>', '</tr>', '</tr>', '</tr>', '</tr>', '</tr>', '</tr>', '</tr>', '</tr>', '</tr>', '</tr>', '</tr>', '</tr>', '</tr>', '</tr>', '</tr>', '</tr>', '</tr>', '</tr>', '</tr>', '</tr>', '</tr>', '</tr>', '</tr>', '</tr>', '</tr>', '</tr>', '</tr>', '</tr>', '</tr>', '</tr>', '</tr>', '</tr>', '</tr>', '</tr>', '</tr>', '</tr>', '</tr>', '</tr>', '</tr>', '</tr>', '</tr>', '</tr>', '</tr>', '</tr>', '</tr>', '</tr>', '</tr>', '</tr>', '</tr>', '</tr>', '</tr>', '</tr>', '</tr>', '</tr>', '</tr>', '</tr>', '</tr>', '</tr>', '</tr>', '</tr>', '</tr>', '</tr>', '</tr>', '</tr>', '</tr>', '</tr>', '</tr>', '</tr>', '</tr>', '</tr>', '</tr>', '</tr>', '</tr>', '</tr>', '</tr>', '</tr>', '</tr>', '</tr>', '</tr>', '</tr>', '</tr>', '</tr>', '</tr>', '</tr>', '</tr>', '</tr>', '</tr>', '</tr>', '</tr>', '</tr>', '</tr>', '</tr>', '</tr>', '</tr>', '</tr>', '</tr>', '</tr>', '</tr>', '</tr>', '</tr>', '</tr>', '</tr>', '</tr>', '</tr>', '</tr>', '</tr>', '</tr>', '</tr>', '</tr>', '</tr>', '</tr>', '</tr>', '</tr>', '</tr>', '</tr>', '</tr>', '</tr>', '</tr>', '</tr>', '</tr>', '</tr>', '</tr>', '</tr>', '</tr>', '</tr>', '</tr>', '</tr>', '</tr>', '</tr>', '</tr>', '</tr>', '</tr>', '</tr>', '</tr>', '</tr>', '</tr>', '</tr>', '</tr>', '</tr>', '</tr>', '</tr>', '</tr>', '</tr>', '</tr>', '</tr>', '</tr>', '</tr>', '</tr>', '</tr>', '</tr>', '</tr>', '</tr>', '</tr>', '</tr>', '</tr>', '</tr>', '</tr>', '</tr>', '</tr>', '</tr>', '</tr>', '</tr>', '</tr>', '</tr>', '</tr>', '</tr>', '</tr>', '</tr>', '</tr>', '</tr>', '</tr>', '</tr>']\n",
      "token_scores: 0.017298568549958024\n",
      "Bounding boxes: []\n"
     ]
    }
   ],
   "source": [
    "pred = results['predictions'][0]\n",
    "tokens = [p for p in pred['tokens'].split(',') if p != '<UKN>']\n",
    "print(f'Tokens: {tokens}')\n",
    "print(f'token_scores: {pred[\"token_score\"]}')\n",
    "bboxes = [b for b in pred['bboxes'] if b != [0.0, 0.0, 0.0, 0.0]]\n",
    "print(f'Bounding boxes: {bboxes}')"
   ]
  },
  {
   "cell_type": "code",
   "execution_count": 9,
   "id": "979512f1",
   "metadata": {},
   "outputs": [
    {
     "data": {
      "image/png": "[encoded data removed]",
      "text/plain": [
       "<Figure size 640x480 with 1 Axes>"
      ]
     },
     "metadata": {},
     "output_type": "display_data"
    }
   ],
   "source": [
    "import matplotlib.pyplot as plt\n",
    "plt.imshow(results['visualization'][0])\n",
    "plt.show()"
   ]
  }
 ],
 "metadata": {
  "kernelspec": {
   "display_name": "etv",
   "language": "python",
   "name": "python3"
  },
  "language_info": {
   "codemirror_mode": {
    "name": "ipython",
    "version": 3
   },
   "file_extension": ".py",
   "mimetype": "text/x-python",
   "name": "python",
   "nbconvert_exporter": "python",
   "pygments_lexer": "ipython3",
   "version": "3.11.13"
  }
 },
 "nbformat": 4,
 "nbformat_minor": 5
}
