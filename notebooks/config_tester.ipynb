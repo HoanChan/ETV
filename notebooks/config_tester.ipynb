{
 "cells": [
  {
   "cell_type": "code",
   "execution_count": null,
   "id": "e5758af4",
   "metadata": {},
   "outputs": [],
   "source": [
    "from mmengine.config import Config\n",
    "from mmocr.registry import DATASETS\n",
    "import sys\n",
    "import os\n",
    "src_path = os.path.abspath(os.path.join(os.getcwd(), '..', 'src'))\n",
    "if src_path not in sys.path:\n",
    "    sys.path.append(src_path)\n",
    "from lmdb_dataset import CustomLMDBDataset # Import your custom dataset class\n",
    "\n",
    "# Load config\n",
    "cfg = Config.fromfile('../configs/etv_test1.py')\n",
    "\n",
    "# Build dataset\n",
    "dataset = DATASETS.build(cfg.train_dataloader.dataset)\n",
    "\n",
    "# Kiểm tra 1 sample đầu tiên\n",
    "sample = dataset[0]\n",
    "print(sample)\n"
   ]
  },
  {
   "cell_type": "code",
   "execution_count": null,
   "id": "3fc7fe29",
   "metadata": {},
   "outputs": [],
   "source": [
    "img, instances = sample['img'], sample['instances']\n",
    "import matplotlib.pyplot as plt\n",
    "\n",
    "plt.imshow(img)\n",
    "plt.axis('off')\n",
    "plt.show()"
   ]
  }
 ],
 "metadata": {
  "kernelspec": {
   "display_name": "etv",
   "language": "python",
   "name": "python3"
  },
  "language_info": {
   "codemirror_mode": {
    "name": "ipython",
    "version": 3
   },
   "file_extension": ".py",
   "mimetype": "text/x-python",
   "name": "python",
   "nbconvert_exporter": "python",
   "pygments_lexer": "ipython3",
   "version": "3.11.13"
  }
 },
 "nbformat": 4,
 "nbformat_minor": 5
}
