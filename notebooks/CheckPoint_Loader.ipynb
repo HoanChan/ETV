{
 "cells": [
  {
   "cell_type": "code",
   "execution_count": 3,
   "id": "002ce674",
   "metadata": {},
   "outputs": [],
   "source": [
    "config_path = '../src/configs/etv_concat_resnetex_ranger.py'\n",
    "checkpoint_path = '../work_dirs/etv_concat_resnetex_ranger/epoch_1_7000.pth'\n",
    "model_path = '../work_dirs/etv_concat_resnetex_ranger/model_7000.pth'"
   ]
  },
  {
   "cell_type": "code",
   "execution_count": null,
   "id": "085138de",
   "metadata": {},
   "outputs": [],
   "source": [
    "import torch\n",
    "# Load checkpoint gốc\n",
    "checkpoint = torch.load(checkpoint_path, map_location='cpu')\n",
    "print(checkpoint.keys()) # ['meta', 'state_dict', 'message_hub', 'optimizer', 'param_schedulers']"
   ]
  },
  {
   "cell_type": "code",
   "execution_count": null,
   "id": "178c7d35",
   "metadata": {},
   "outputs": [],
   "source": [
    "# delete unnecessary keys\n",
    "checkpoint.pop('meta', None)\n",
    "checkpoint.pop('message_hub', None)\n",
    "checkpoint.pop('optimizer', None)\n",
    "checkpoint.pop('param_schedulers', None)\n",
    "print(checkpoint.keys()) # ['state_dict']"
   ]
  },
  {
   "cell_type": "code",
   "execution_count": null,
   "id": "32e113f2",
   "metadata": {},
   "outputs": [],
   "source": [
    "# save the modified checkpoint\n",
    "torch.save(checkpoint, checkpoint_path)\n",
    "print(f\"✅ Checkpoint saved successfully: {checkpoint_path}\")"
   ]
  }
 ],
 "metadata": {
  "kernelspec": {
   "display_name": "etv",
   "language": "python",
   "name": "python3"
  },
  "language_info": {
   "codemirror_mode": {
    "name": "ipython",
    "version": 3
   },
   "file_extension": ".py",
   "mimetype": "text/x-python",
   "name": "python",
   "nbconvert_exporter": "python",
   "pygments_lexer": "ipython3",
   "version": "3.11.13"
  }
 },
 "nbformat": 4,
 "nbformat_minor": 5
}
