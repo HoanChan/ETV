{
 "cells": [
  {
   "cell_type": "code",
   "execution_count": null,
   "id": "76d4ef78",
   "metadata": {},
   "outputs": [],
   "source": [
    "# Import required libraries\n",
    "import sys\n",
    "import os\n",
    "\n",
    "# Add notebooks directory to path for notebook_utils\n",
    "sys.path.append(os.path.join(os.path.dirname(os.getcwd()), 'notebooks'))\n",
    "\n",
    "from notebook_utils import setup_environment\n",
    "setup_environment()"
   ]
  },
  {
   "cell_type": "code",
   "execution_count": null,
   "id": "00ec0733",
   "metadata": {},
   "outputs": [],
   "source": [
    "from notebook_utils import load_dataset\n",
    "from configs import _master_base\n",
    "\n",
    "dataset = load_dataset(_master_base, max_data=100, dataset_name=\"Master dataset\")"
   ]
  },
  {
   "cell_type": "code",
   "execution_count": null,
   "id": "0d3b0aba",
   "metadata": {},
   "outputs": [],
   "source": [
    "from notebook_utils import print_random_sample\n",
    "print_random_sample(dataset)"
   ]
  },
  {
   "cell_type": "code",
   "execution_count": null,
   "id": "68197620",
   "metadata": {},
   "outputs": [],
   "source": [
    "from notebook_utils import create_pipeline\n",
    "pipeline = create_pipeline(_master_base)"
   ]
  },
  {
   "cell_type": "code",
   "execution_count": null,
   "id": "45d018b9",
   "metadata": {},
   "outputs": [],
   "source": [
    "from notebook_utils import debug_full_pipeline\n",
    "result = debug_full_pipeline(dataset, _master_base.data_pipeline)"
   ]
  }
 ],
 "metadata": {
  "language_info": {
   "name": "python"
  }
 },
 "nbformat": 4,
 "nbformat_minor": 5
}
