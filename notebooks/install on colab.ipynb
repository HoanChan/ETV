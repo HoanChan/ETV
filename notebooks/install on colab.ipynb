{
  "cells": [
    {
      "cell_type": "code",
      "execution_count": null,
      "metadata": {
        "colab": {
          "base_uri": "https://localhost:8080/"
        },
        "id": "taRzWAws2gVp",
        "outputId": "78644714-4df2-415a-83bd-f6454a886752"
      },
      "outputs": [],
      "source": [
        "# prompt: kiểm tra phiên bản cuda, pytorch\n",
        "def view_GPU_Info():\n",
        "  print(\"Phiên bản CUDA:\")\n",
        "  !nvcc --version\n",
        "\n",
        "  print(\"\\nPhiên bản PyTorch:\")\n",
        "  import torch\n",
        "  print(torch.__version__)\n",
        "\n",
        "  print(\"\\nPhiên bản CUDA của PyTorch:\")\n",
        "  torch.version.cuda\n",
        "\n",
        "view_GPU_Info()\n"
      ]
    },
    {
      "cell_type": "code",
      "execution_count": null,
      "metadata": {
        "colab": {
          "base_uri": "https://localhost:8080/"
        },
        "id": "jUNz4sF37jo3",
        "outputId": "3c50469c-502a-4b1f-f6e0-2ea70592eb0c"
      },
      "outputs": [],
      "source": [
        "# Tải và cài đặt Miniconda\n",
        "!wget -c https://repo.anaconda.com/miniconda/Miniconda3-latest-Linux-x86_64.sh\n",
        "!chmod +x Miniconda3-latest-Linux-x86_64.sh\n",
        "!bash ./Miniconda3-latest-Linux-x86_64.sh -b -f -p /usr/local"
      ]
    },
    {
      "cell_type": "code",
      "execution_count": null,
      "metadata": {
        "colab": {
          "base_uri": "https://localhost:8080/"
        },
        "id": "m5WMDMl88ER-",
        "outputId": "97923387-f767-4df7-bd4c-0766a3d87ba1"
      },
      "outputs": [],
      "source": [
        "# Tạo môi trường conda mới với Python 3.8 có tên là \"myenv\"\n",
        "!conda create -y -n myenv python=3.8"
      ]
    },
    {
      "cell_type": "code",
      "execution_count": null,
      "metadata": {
        "colab": {
          "base_uri": "https://localhost:8080/"
        },
        "id": "8RZnp9Vm81E2",
        "outputId": "fcbd04fd-c6b4-4e24-82f7-59f57ebd991d"
      },
      "outputs": [],
      "source": [
        "# Colab không kích hoạt môi trường conda được cho nên dùng phương pháp thủ công\n",
        "# Cài đặt PyTorch 1.9.0 với CUDA 11.1 trong môi trường \"myenv\"\n",
        "!/usr/local/envs/myenv/bin/pip install torch==1.9.0+cu111 torchvision==0.10.0+cu111 torchaudio==0.9.0 -f https://download.pytorch.org/whl/torch_stable.html\n"
      ]
    },
    {
      "cell_type": "code",
      "execution_count": null,
      "metadata": {
        "colab": {
          "base_uri": "https://localhost:8080/"
        },
        "id": "v2WiaS4a8OsH",
        "outputId": "96f193b0-9745-4fab-8b42-2147e151a27e"
      },
      "outputs": [],
      "source": [
        "# Kiểm tra phiên bản PyTorch trong môi trường \"myenv\"\n",
        "!/usr/local/envs/myenv/bin/python -c \"import torch; print(torch.__version__)\"\n"
      ]
    },
    {
      "cell_type": "code",
      "execution_count": null,
      "metadata": {
        "id": "NgGximKK_nwL"
      },
      "outputs": [],
      "source": [
        "# Hàm để chạy mã Python trong môi trường \"myenv\"\n",
        "# Lưu mã vào tệp tạm thời và chạy nó trong môi trường \"myenv\"\n",
        "def run_myenv(code):\n",
        "    with open(\"temp.py\", \"w\") as f:\n",
        "        f.write(code)\n",
        "    !/usr/local/envs/myenv/bin/python temp.py\n"
      ]
    },
    {
      "cell_type": "code",
      "execution_count": null,
      "metadata": {
        "colab": {
          "base_uri": "https://localhost:8080/"
        },
        "id": "BevrmpJz_pRM",
        "outputId": "53fe841b-26e1-4510-c7cd-2f204a37d9fb"
      },
      "outputs": [],
      "source": [
        "# Chạy mã kiểm tra phiên bản PyTorch và CUDA trong môi trường \"myenv\"\n",
        "run_myenv(\"\"\"\n",
        "import torch\n",
        "print(torch.__version__)\n",
        "print(torch.cuda.is_available())\n",
        "print(torch.cuda.get_device_name(0))\n",
        "print(torch.backends.cudnn.enabled)\n",
        "print(torch.backends.cudnn.version())\n",
        "\"\"\")\n"
      ]
    },
    {
      "cell_type": "code",
      "execution_count": null,
      "metadata": {
        "colab": {
          "base_uri": "https://localhost:8080/"
        },
        "id": "gRS_Wqld_syj",
        "outputId": "4b695bac-f6ec-44b2-d23c-2fcda86c5db8"
      },
      "outputs": [],
      "source": [
        "# Cài đặt OpenMIM trong môi trường \"myenv\"\n",
        "!/usr/local/envs/myenv/bin/pip install -U openmim"
      ]
    },
    {
      "cell_type": "code",
      "execution_count": null,
      "metadata": {
        "colab": {
          "base_uri": "https://localhost:8080/"
        },
        "id": "tNLnRK4lAA6b",
        "outputId": "9248e5c0-d29b-4368-f4d5-ee183c5a659f"
      },
      "outputs": [],
      "source": [
        "# Cài đặt mmengine trong môi trường \"myenv\"\n",
        "!/usr/local/envs/myenv/bin/mim install mmengine"
      ]
    },
    {
      "cell_type": "code",
      "execution_count": null,
      "metadata": {
        "colab": {
          "base_uri": "https://localhost:8080/"
        },
        "id": "pDLM9YCjAG8r",
        "outputId": "50827ff7-de4c-463d-86d6-1b584ed17bdc"
      },
      "outputs": [],
      "source": [
        "# Cài đặt mmcv phiên bản 1.2.4 trong môi trường \"myenv\"\n",
        "!/usr/local/envs/myenv/bin/mim install mmcv==1.2.4"
      ]
    },
    {
      "cell_type": "code",
      "execution_count": null,
      "metadata": {
        "colab": {
          "base_uri": "https://localhost:8080/"
        },
        "id": "nubWW7NvATD1",
        "outputId": "d5050043-d30d-4daa-d9d7-0f41838d7499"
      },
      "outputs": [],
      "source": [
        "# kiểm tra đã có cpython chưa\n",
        "run_myenv(\"\"\"\n",
        "print(site.getsitepackages())\n",
        "\"\"\")"
      ]
    },
    {
      "cell_type": "code",
      "execution_count": null,
      "metadata": {
        "colab": {
          "base_uri": "https://localhost:8080/"
        },
        "id": "6ex1_fpKCRa0",
        "outputId": "02580c90-9ae1-4c73-8f59-b2d42c4a3b20"
      },
      "outputs": [],
      "source": [
        "# Cài đặt Cython phiên bản 0.29.33 trong môi trường \"myenv\", đây là phiên bản tương thích với mmdet\n",
        "!/usr/local/envs/myenv/bin/pip install cython==0.29.33"
      ]
    },
    {
      "cell_type": "code",
      "execution_count": null,
      "metadata": {
        "colab": {
          "base_uri": "https://localhost:8080/"
        },
        "id": "CBE_srB-AnHT",
        "outputId": "6bb902f7-d62d-446d-c74c-77f7ab8a8507"
      },
      "outputs": [],
      "source": [
        "# Tải xuống và mmdetection và mmocr từ GitHub\n",
        "!git clone --branch v2.11.0 https://github.com/open-mmlab/mmdetection.git\n",
        "!git clone --branch v0.2.0 https://github.com/open-mmlab/mmocr.git"
      ]
    },
    {
      "cell_type": "code",
      "execution_count": null,
      "metadata": {
        "colab": {
          "base_uri": "https://localhost:8080/"
        },
        "id": "wrVwip9PAv37",
        "outputId": "f1646701-f7ac-4c17-9c42-27d5b32e15f6"
      },
      "outputs": [],
      "source": [
        "# Cài đặt mmdetection và mmocr trong môi trường \"myenv\"\n",
        "!cd mmdetection && /usr/local/envs/myenv/bin/pip install -v -e .\n",
        "!cd mmocr && /usr/local/envs/myenv/bin/pip install -v -e ."
      ]
    },
    {
      "cell_type": "code",
      "execution_count": null,
      "metadata": {
        "colab": {
          "base_uri": "https://localhost:8080/"
        },
        "id": "O5q5rYnNCrVs",
        "outputId": "fb886ce1-541b-433c-bea2-34425c4dd157"
      },
      "outputs": [],
      "source": [
        "# Cài đặt gdown để tải xuống tệp từ Google Drive\n",
        "!pip install gdown"
      ]
    },
    {
      "cell_type": "code",
      "execution_count": null,
      "metadata": {
        "colab": {
          "base_uri": "https://localhost:8080/"
        },
        "id": "v_6B48yKEGIa",
        "outputId": "c5dd7a5b-3bf4-41c6-95cd-f6c5161fe8cf"
      },
      "outputs": [],
      "source": [
        "# Tải ViTabSet đã preprocess\n",
        "!gdown --id 1o_fCCeYqv3_j2ccbP4oEpC4kVZr480PS"
      ]
    },
    {
      "cell_type": "code",
      "execution_count": null,
      "metadata": {
        "id": "-4PQxRVLE3zL"
      },
      "outputs": [],
      "source": [
        "G# Giải nén tệp đã tải xuống\n",
        "!unzip -q vitabset_preprocessing.zip"
      ]
    },
    {
      "cell_type": "code",
      "execution_count": null,
      "metadata": {
        "id": "UlC20HsLFPDX"
      },
      "outputs": [],
      "source": [
        "# Nếu gải nén lỗi thì chạy lệnh sau để xoá thư mục\n",
        "# !rm -r vitabset"
      ]
    }
  ],
  "metadata": {
    "accelerator": "GPU",
    "colab": {
      "gpuType": "T4",
      "provenance": []
    },
    "kernelspec": {
      "display_name": "Python 3",
      "name": "python3"
    },
    "language_info": {
      "name": "python"
    }
  },
  "nbformat": 4,
  "nbformat_minor": 0
}
