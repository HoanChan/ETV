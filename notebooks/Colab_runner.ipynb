{
 "cells": [
  {
   "cell_type": "markdown",
   "id": "44df485e",
   "metadata": {},
   "source": [
    "Chạy Train trên Google Colab, nhấn nút: \n",
    "<a href=\"https://colab.research.google.com/github/HoanChan/ETV/blob/main/notebooks/Colab_runner.ipynb\"><img src=\"https://colab.research.google.com/assets/colab-badge.svg\" alt=\"Open In Colab\"></a>"
   ]
  },
  {
   "cell_type": "code",
   "execution_count": null,
   "id": "f8ab5032",
   "metadata": {},
   "outputs": [],
   "source": [
    "!pip install konda"
   ]
  },
  {
   "cell_type": "code",
   "execution_count": null,
   "id": "f5e20aca",
   "metadata": {},
   "outputs": [],
   "source": [
    "import konda\n",
    "konda.install()"
   ]
  },
  {
   "cell_type": "code",
   "execution_count": null,
   "id": "7a1d9729",
   "metadata": {},
   "outputs": [],
   "source": [
    "!konda create -y -n myenv python==3.9.23\n",
    "!konda activate myenv"
   ]
  },
  {
   "cell_type": "code",
   "execution_count": null,
   "id": "003d3bd3",
   "metadata": {},
   "outputs": [],
   "source": [
    "!konda run \"pip install \\\"numpy<2\\\"\""
   ]
  },
  {
   "cell_type": "code",
   "execution_count": null,
   "id": "d6ba48c9",
   "metadata": {},
   "outputs": [],
   "source": [
    "!konda run \"pip install torch==2.0.1 torchvision==0.15.2 torchaudio==2.0.2 --index-url https://download.pytorch.org/whl/cu118\""
   ]
  },
  {
   "cell_type": "code",
   "execution_count": null,
   "id": "397ee927",
   "metadata": {},
   "outputs": [],
   "source": [
    "def run_myenv(code):\n",
    "    with open(\"temp.py\", \"w\") as f:\n",
    "        f.write(code)\n",
    "    !konda run \"python temp.py\""
   ]
  },
  {
   "cell_type": "code",
   "execution_count": null,
   "id": "6c6dcfc5",
   "metadata": {},
   "outputs": [],
   "source": [
    "run_myenv(\"\"\"\n",
    "import torch\n",
    "print(torch.__version__)\n",
    "print(torch.cuda.is_available())\n",
    "print(torch.cuda.get_device_name(0))\n",
    "print(torch.backends.cudnn.enabled)\n",
    "print(torch.backends.cudnn.version())\n",
    "\"\"\")"
   ]
  },
  {
   "cell_type": "code",
   "execution_count": null,
   "id": "722ea28d",
   "metadata": {},
   "outputs": [],
   "source": [
    "!pip install -U openmim\n",
    "!mim install mmcv==2.0.1\n",
    "!mim install mmdet==3.1.0\n",
    "!mim install mmocr==1.0.1"
   ]
  },
  {
   "cell_type": "code",
   "execution_count": null,
   "id": "42d9232b",
   "metadata": {},
   "outputs": [],
   "source": [
    "!pip install apted\n",
    "!pip install distance"
   ]
  },
  {
   "cell_type": "code",
   "execution_count": null,
   "id": "94a488dc",
   "metadata": {},
   "outputs": [],
   "source": [
    "!pip cache purge\n",
    "!conda clean --all -y\n",
    "!rm -rf ~/.cache/mim"
   ]
  },
  {
   "cell_type": "code",
   "execution_count": null,
   "id": "c5275b74",
   "metadata": {},
   "outputs": [],
   "source": [
    "!pip install gdown"
   ]
  },
  {
   "cell_type": "code",
   "execution_count": null,
   "id": "2c27ee7e",
   "metadata": {},
   "outputs": [],
   "source": [
    "!curl -L -o vitabset.zip 'https://docs.google.com/uc?export=download&id=1dwbYq5nbUj_0rqiGeuCjGRGwHKiKs2VR'"
   ]
  },
  {
   "cell_type": "code",
   "execution_count": null,
   "id": "638d0c7f",
   "metadata": {},
   "outputs": [],
   "source": [
    "!git clone https://code@github.com/HoanChan/ETV.git"
   ]
  },
  {
   "cell_type": "code",
   "execution_count": null,
   "id": "3732191f",
   "metadata": {},
   "outputs": [],
   "source": [
    "!konda run \"PYTHONPATH=src python tools/train.py src/configs/etv_concat_resnetex_ranger.py --work-dir work_dirs/etv_concat_resnetex_ranger --cfg-options train_cfg.max_epochs=1 train_dataloader.dataset.max_data=7000 val_cfg=None val_dataloader=None val_evaluator=None test_cfg=None test_dataloader=None test_evaluator=None\""
   ]
  }
 ],
 "metadata": {
  "language_info": {
   "name": "python"
  }
 },
 "nbformat": 4,
 "nbformat_minor": 5
}
