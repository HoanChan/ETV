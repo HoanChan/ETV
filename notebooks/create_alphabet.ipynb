{
 "cells": [
  {
   "cell_type": "code",
   "execution_count": 2,
   "id": "66fa780e",
   "metadata": {},
   "outputs": [
    {
     "name": "stdout",
     "output_type": "stream",
     "text": [
      "Allowed characters: àáảãạâầấẩẫậăằắẳẵặèéẻẽẹêềếểễệìíỉĩịòóỏõọôồốổỗộơờớởỡợùúủũụưừứửữựỳýỷỹỵÀÁẢÃẠÂẦẤẨẪẬĂẰẮẲẴẶÈÉẺẼẸÊỀẾỂỄỆÌÍỈĨỊÒÓỎÕỌÔỒỐỔỖỘƠỜỚỞỠỢÙÚỦŨỤƯỪỨỬỮỰỲÝỶỸỴĐđ0123456789abcdefghijklmnopqrstuvwxyzABCDEFGHIJKLMNOPQRSTUVWXYZ!\"#$%&'()*+,-./:;<=>?@[\\]^_`{|}~ \t\n",
      "\u000b\f\n"
     ]
    }
   ],
   "source": [
    "import string\n",
    "\n",
    "\n",
    "vn_char = (\"àáảãạâầấẩẫậăằắẳẵặèéẻẽẹêềếểễệìíỉĩịòóỏõọôồốổỗộơờớởỡợùúủũụưừứửữựỳýỷỹỵ\"    \n",
    "          \"ÀÁẢÃẠÂẦẤẨẪẬĂẰẮẲẴẶÈÉẺẼẸÊỀẾỂỄỆÌÍỈĨỊÒÓỎÕỌÔỒỐỔỖỘƠỜỚỞỠỢÙÚỦŨỤƯỪỨỬỮỰỲÝỶỸỴ\"\n",
    "          \"Đđ\")\n",
    "\n",
    "allowed_characters = vn_char + string.printable # printable characters include digits, letters, punctuation, and whitespace\n",
    "print(\"Allowed characters:\", allowed_characters)"
   ]
  },
  {
   "cell_type": "code",
   "execution_count": 3,
   "id": "0d63256d",
   "metadata": {},
   "outputs": [],
   "source": [
    "with open('../src/data/alphabet.txt', 'w', encoding='utf-8') as f:\n",
    "    for char in allowed_characters:\n",
    "        f.write(char + '\\n')"
   ]
  }
 ],
 "metadata": {
  "kernelspec": {
   "display_name": "etv",
   "language": "python",
   "name": "python3"
  },
  "language_info": {
   "codemirror_mode": {
    "name": "ipython",
    "version": 3
   },
   "file_extension": ".py",
   "mimetype": "text/x-python",
   "name": "python",
   "nbconvert_exporter": "python",
   "pygments_lexer": "ipython3",
   "version": "3.11.13"
  }
 },
 "nbformat": 4,
 "nbformat_minor": 5
}
